{
 "cells": [
  {
   "cell_type": "code",
   "execution_count": 5,
   "id": "c59f3f6c",
   "metadata": {},
   "outputs": [],
   "source": [
    "import numpy as np\n",
    "import pandas as pd"
   ]
  },
  {
   "cell_type": "code",
   "execution_count": 23,
   "id": "f999774f",
   "metadata": {},
   "outputs": [],
   "source": [
    "a1 = pd.read_csv('meta/Ascomycetes_08-09.23_nodups_5mbplus.csv')\n",
    "a2 = pd.read_csv('meta/Basidiomycetes_08-09-23_GS_nodups.csv')\n",
    "a3 = pd.read_csv('meta/Other_fungi_08-09-23_GS_nodups.csv')"
   ]
  },
  {
   "cell_type": "code",
   "execution_count": 24,
   "id": "3c00bca9",
   "metadata": {},
   "outputs": [],
   "source": [
    "a4 = pd.concat([a1,a2,a3]).reset_index(drop = True)\n",
    "a4['genus'] = a4['#Organism Name'].apply(lambda x: x.split(' ')[0])"
   ]
  },
  {
   "cell_type": "code",
   "execution_count": 25,
   "id": "eb0549f4",
   "metadata": {},
   "outputs": [],
   "source": [
    "pd.merge(a4,of, on='genus', how = 'left').to_clipboard(index = 0)"
   ]
  },
  {
   "cell_type": "code",
   "execution_count": 2,
   "id": "c5f38a78",
   "metadata": {},
   "outputs": [],
   "source": [
    "z1 = pd.read_csv('meta/t2.csv')"
   ]
  },
  {
   "cell_type": "code",
   "execution_count": 14,
   "id": "11f46770",
   "metadata": {},
   "outputs": [],
   "source": [
    "z1['genus'] = z1['#Organism Name'].apply(lambda x: x.split(' ')[0])"
   ]
  },
  {
   "cell_type": "code",
   "execution_count": 22,
   "id": "8e00bbd2",
   "metadata": {},
   "outputs": [],
   "source": [
    "z2 = pd.merge(z1,of, on='genus', how = 'left')#.to_clipboard(index = 0)"
   ]
  },
  {
   "cell_type": "code",
   "execution_count": 24,
   "id": "b3c1ca4f",
   "metadata": {},
   "outputs": [],
   "source": [
    "z2.to_clipboard()"
   ]
  },
  {
   "cell_type": "code",
   "execution_count": null,
   "id": "a8181e84",
   "metadata": {},
   "outputs": [],
   "source": []
  },
  {
   "cell_type": "code",
   "execution_count": null,
   "id": "85a2dcbb",
   "metadata": {},
   "outputs": [],
   "source": [
    "#animal"
   ]
  },
  {
   "cell_type": "code",
   "execution_count": 4,
   "id": "077a369e",
   "metadata": {},
   "outputs": [
    {
     "name": "stderr",
     "output_type": "stream",
     "text": [
      "C:\\Users\\cat\\AppData\\Local\\Temp\\ipykernel_23592\\4284596046.py:1: DtypeWarning: Columns (7,8,11,12,13,14,15,16,17,18,19,20,28,29,30,31,32,33,34,35,36,38,41,42,43,44,45,46,47,48,49,50,51,52,53,54,56,57,58,59,62,63,64,65,66,67,68,69,70) have mixed types. Specify dtype option on import or set low_memory=False.\n",
      "  of = pd.read_csv('taxonomy/ncbi_lineages_2023-08-23.csv')\n"
     ]
    }
   ],
   "source": [
    "of = pd.read_csv('taxonomy/ncbi_lineages_2023-08-23.csv')"
   ]
  },
  {
   "cell_type": "code",
   "execution_count": 5,
   "id": "8dabdbc0",
   "metadata": {},
   "outputs": [],
   "source": [
    "of = of[of['superkingdom'] == 'Eukaryota']"
   ]
  },
  {
   "cell_type": "code",
   "execution_count": 14,
   "id": "78fa7e7f",
   "metadata": {},
   "outputs": [],
   "source": [
    "of = of[~((of['phylum'] == 'Streptophyta') | (of['phylum'] == 'Rhodophyta') | (of['phylum'] == 'Haptophyta') | (of['phylum'] == 'Bacillariophyta') | (of['phylum'] == 'Chlorophyta')  | (of['phylum'] == 'Ascomycota') | (of['phylum'] == 'Basidiomycota') | (of['phylum'] == 'Prasinodermophyta') | (of['phylum'] == 'Oomycota'))]"
   ]
  },
  {
   "cell_type": "code",
   "execution_count": 18,
   "id": "0cda7d1e",
   "metadata": {},
   "outputs": [],
   "source": [
    "of = of.iloc[of.notnull().sum(axis=1).mul(-1).argsort()]\n",
    "of = of.drop_duplicates('genus')"
   ]
  },
  {
   "cell_type": "code",
   "execution_count": 24,
   "id": "5f8f3af5",
   "metadata": {},
   "outputs": [],
   "source": [
    "of = of[['tax_id', 'phylum', 'subphylum', 'class', 'order', 'family', 'genus']]"
   ]
  },
  {
   "cell_type": "code",
   "execution_count": 25,
   "id": "1a1fd00a",
   "metadata": {},
   "outputs": [],
   "source": [
    "d1 = pd.read_csv('meta/animals_08-29_5937_RefSeqSorted_GSorted_nodups_above50.csv')"
   ]
  },
  {
   "cell_type": "code",
   "execution_count": 26,
   "id": "cceade4d",
   "metadata": {},
   "outputs": [],
   "source": [
    "d1['genus'] = d1['#Organism Name'].apply(lambda x: x.split(' ')[0])"
   ]
  },
  {
   "cell_type": "code",
   "execution_count": 27,
   "id": "053d396b",
   "metadata": {},
   "outputs": [
    {
     "data": {
      "text/plain": [
       "array(['Arthropoda', 'Chordata', 'Mollusca', 'Echinodermata', 'Nematoda',\n",
       "       'Hemichordata', 'Cnidaria', 'Porifera', 'Placozoa',\n",
       "       'Platyhelminthes', 'Ctenophora', 'Annelida', 'Priapulida',\n",
       "       'Rotifera', nan, 'Bryozoa', 'Dicyemida', 'Acanthocephala',\n",
       "       'Tardigrada', 'Xenacoelomorpha', 'Nemertea', 'Onychophora',\n",
       "       'Phoronida', 'Brachiopoda'], dtype=object)"
      ]
     },
     "execution_count": 27,
     "metadata": {},
     "output_type": "execute_result"
    }
   ],
   "source": [
    "pd.merge(d1,of, on='genus', how = 'left')['phylum'].unique()"
   ]
  },
  {
   "cell_type": "code",
   "execution_count": 28,
   "id": "aad7736e",
   "metadata": {},
   "outputs": [],
   "source": [
    "pd.merge(d1,of, on='genus', how = 'left').to_clipboard(index = 0)"
   ]
  },
  {
   "cell_type": "code",
   "execution_count": null,
   "id": "47552e15",
   "metadata": {},
   "outputs": [],
   "source": []
  },
  {
   "cell_type": "code",
   "execution_count": null,
   "id": "80e884c1",
   "metadata": {},
   "outputs": [],
   "source": [
    "#1-14-24_update"
   ]
  },
  {
   "cell_type": "code",
   "execution_count": 3,
   "id": "8409459a",
   "metadata": {},
   "outputs": [],
   "source": [
    "a1 = pd.read_csv('meta/2811plants_1_16.csv')\n",
    "b1 = pd.read_csv('meta/14101fungi_1_16.csv')\n",
    "c1 = pd.read_csv('meta/10588animals_1_16.csv')"
   ]
  },
  {
   "cell_type": "code",
   "execution_count": 4,
   "id": "9b0739e5",
   "metadata": {},
   "outputs": [],
   "source": [
    "#remove special characters ',(,),-,/,#,:,=,+,[,],,\n",
    "for i in a1.index:\n",
    "    for i2 in '\\'()-/#:=+[],':\n",
    "        a1.loc[i,'#Organism Name'] = a1.loc[i,'#Organism Name'].replace(i2,'.')\n",
    "for i in b1.index:\n",
    "    b1.loc[i,'#Organism Name'] = b1.loc[i,'#Organism Name'].replace('[Candida]','Candida')\n",
    "    for i2 in '\\'()-/#:=+[],':\n",
    "        b1.loc[i,'#Organism Name'] = b1.loc[i,'#Organism Name'].replace(i2,'.')\n",
    "for i in c1.index:\n",
    "    for i2 in '\\'()-/#:=+[],':\n",
    "        c1.loc[i,'#Organism Name'] = c1.loc[i,'#Organism Name'].replace(i2,'.')"
   ]
  },
  {
   "cell_type": "code",
   "execution_count": 5,
   "id": "919dd48d",
   "metadata": {},
   "outputs": [],
   "source": [
    "#x. \n",
    "for i in a1.index:\n",
    "    if ' x ' in a1.loc[i,'#Organism Name']:\n",
    "        s = a1.loc[i,'#Organism Name']\n",
    "        a1.loc[i,'#Organism Name'] = s.split(' ')[0] + ' X' + 'X'.join(s.split(' ')[1:]).replace('xX', '')\n",
    "for i in b1.index:\n",
    "    if ' x ' in b1.loc[i,'#Organism Name']:\n",
    "        s = b1.loc[i,'#Organism Name']\n",
    "        b1.loc[i,'#Organism Name'] = s.split(' ')[0] + ' X' + 'X'.join(s.split(' ')[1:]).replace('xX', '')\n",
    "for i in c1.index:\n",
    "    if ' x ' in c1.loc[i,'#Organism Name']:\n",
    "        s = c1.loc[i,'#Organism Name']\n",
    "        c1.loc[i,'#Organism Name'] = s.split(' ')[0] + ' X' + 'X'.join(s.split(' ')[1:]).replace('xX', '')"
   ]
  },
  {
   "cell_type": "code",
   "execution_count": 6,
   "id": "a5bfbc52",
   "metadata": {},
   "outputs": [],
   "source": [
    "#sp. to sp._\n",
    "for i in a1.index:\n",
    "    a1.loc[i,'#Organism Name'] = a1.loc[i,'#Organism Name'].replace('sp. ','sp.')\n",
    "for i in b1.index:\n",
    "    b1.loc[i,'#Organism Name'] = b1.loc[i,'#Organism Name'].replace('sp. ','sp.')\n",
    "for i in c1.index:\n",
    "    c1.loc[i,'#Organism Name'] = c1.loc[i,'#Organism Name'].replace('sp. ','sp.')"
   ]
  },
  {
   "cell_type": "code",
   "execution_count": 7,
   "id": "f8977963",
   "metadata": {},
   "outputs": [],
   "source": [
    "#subsp., sp., var., x\n",
    "a1['onn'] = a1['#Organism Name'].apply(lambda x: len(x.split(' ')))\n",
    "b1['onn'] = b1['#Organism Name'].apply(lambda x: len(x.split(' ')))\n",
    "c1['onn'] = c1['#Organism Name'].apply(lambda x: len(x.split(' ')))"
   ]
  },
  {
   "cell_type": "code",
   "execution_count": 8,
   "id": "fc89bc8a",
   "metadata": {},
   "outputs": [],
   "source": [
    "a1['on'] = a1['#Organism Name'].apply(lambda x: '_'.join(x.split(' ')[:2]))\n",
    "b1['on'] = b1['#Organism Name'].apply(lambda x: '_'.join(x.split(' ')[:2]))\n",
    "c1['on'] = c1['#Organism Name'].apply(lambda x: '_'.join(x.split(' ')[:2]))"
   ]
  },
  {
   "cell_type": "code",
   "execution_count": 9,
   "id": "63d65820",
   "metadata": {},
   "outputs": [],
   "source": [
    "b1 = b1.drop_duplicates('on')\n",
    "c1 = c1.drop_duplicates('on')"
   ]
  },
  {
   "cell_type": "code",
   "execution_count": 10,
   "id": "7192ab62",
   "metadata": {},
   "outputs": [],
   "source": [
    "a1['genus'] = a1['#Organism Name'].apply(lambda x: x.split(' ')[0])\n",
    "b1['genus'] = b1['#Organism Name'].apply(lambda x: x.split(' ')[0])\n",
    "c1['genus'] = c1['#Organism Name'].apply(lambda x: x.split(' ')[0])"
   ]
  },
  {
   "cell_type": "code",
   "execution_count": 11,
   "id": "a4da4b8b",
   "metadata": {},
   "outputs": [
    {
     "name": "stderr",
     "output_type": "stream",
     "text": [
      "C:\\Users\\cat\\AppData\\Local\\Temp\\ipykernel_14256\\3342031718.py:1: DtypeWarning: Columns (7,8,11,12,13,14,15,16,17,18,19,20,28,29,30,31,32,33,34,35,36,38,41,42,43,44,45,46,47,48,49,50,51,52,53,54,56,57,58,59,62,63,64,65,66,67,68,69,70) have mixed types. Specify dtype option on import or set low_memory=False.\n",
      "  o0 = pd.read_csv('taxonomy/ncbi_lineages_2023-08-23.csv')\n"
     ]
    }
   ],
   "source": [
    "o0 = pd.read_csv('taxonomy/ncbi_lineages_2023-08-23.csv')"
   ]
  },
  {
   "cell_type": "code",
   "execution_count": 12,
   "id": "c71c46a5",
   "metadata": {},
   "outputs": [],
   "source": [
    "o0 = o0[o0['superkingdom'] == 'Eukaryota']"
   ]
  },
  {
   "cell_type": "code",
   "execution_count": 13,
   "id": "68aaef25",
   "metadata": {},
   "outputs": [],
   "source": [
    "o1 = o0[o0['phylum'].isin(['Streptophyta','Rhodophyta','Haptophyta','Bacillariophyta','Chlorophyta','Prasinodermophyta'])]"
   ]
  },
  {
   "cell_type": "code",
   "execution_count": 14,
   "id": "b93a51a7",
   "metadata": {},
   "outputs": [],
   "source": [
    "o1 = o1.iloc[o1.notnull().sum(axis=1).mul(-1).argsort()]"
   ]
  },
  {
   "cell_type": "code",
   "execution_count": 15,
   "id": "2ef4c1a6",
   "metadata": {},
   "outputs": [],
   "source": [
    "o1 = o1.drop_duplicates('genus')"
   ]
  },
  {
   "cell_type": "code",
   "execution_count": 16,
   "id": "8e9ac88d",
   "metadata": {},
   "outputs": [],
   "source": [
    "a1 = pd.merge(a1,o1[['phylum','class','order','family','genus']], how = 'left')"
   ]
  },
  {
   "cell_type": "code",
   "execution_count": 17,
   "id": "dd3d6984",
   "metadata": {},
   "outputs": [],
   "source": [
    "o2 = o0[o0['phylum'].isin(['Oomycota','Ascomycota','Chytridiomycota','Blastocladiomycota','Mucoromycota','Zoopagomycota','Basidiomycota','Olpidiomycota','Cryptomycota','Sanchytriomycota','Microsporidia'])]"
   ]
  },
  {
   "cell_type": "code",
   "execution_count": 18,
   "id": "7bf27136",
   "metadata": {},
   "outputs": [],
   "source": [
    "o2 = o2.iloc[o2.notnull().sum(axis=1).mul(-1).argsort()]\n",
    "o2 = o2.drop_duplicates('genus')\n",
    "b1 = pd.merge(b1,o2[['phylum','class','order','family','genus']], how = 'left')"
   ]
  },
  {
   "cell_type": "code",
   "execution_count": 19,
   "id": "99c758c9",
   "metadata": {},
   "outputs": [],
   "source": [
    "o3 = o0[o0['phylum'].isin(['Placozoa','Porifera','Cnidaria','Platyhelminthes','Nemertea','Nematoda','Annelida','Mollusca','Arthropoda','Echinodermata','Chordata','Brachiopoda','Rotifera','Ctenophora','Hemichordata','Chaetognatha','Acanthocephala','Onychophora','Priapulida','Xenacoelomorpha','Nematomorpha','Kinorhyncha','Gnathostomulida','Loricifera','Gastrotricha','Phoronida','Tardigrada','Entoprocta','Cycliophora','Bryozoa'])]"
   ]
  },
  {
   "cell_type": "code",
   "execution_count": 20,
   "id": "afdb4f69",
   "metadata": {},
   "outputs": [],
   "source": [
    "o3 = o3.iloc[o3.notnull().sum(axis=1).mul(-1).argsort()]\n",
    "o3 = o3.drop_duplicates('genus')\n",
    "c1 = pd.merge(c1,o3[['phylum','class','order','family','genus']], how = 'left')"
   ]
  },
  {
   "cell_type": "code",
   "execution_count": 87,
   "id": "85bc863e",
   "metadata": {},
   "outputs": [],
   "source": [
    "a1[a1['phylum'].notnull()].to_csv('meta/2811plants_1_16_V1.csv', index = 0)\n",
    "b1[b1['phylum'].notnull()].to_csv('meta/14101fungi_1_16_V1.csv', index = 0)\n",
    "c1[c1['phylum'].notnull()].to_csv('meta/10588animals_1_16_V1.csv', index = 0)"
   ]
  },
  {
   "cell_type": "code",
   "execution_count": 21,
   "id": "45036a08",
   "metadata": {},
   "outputs": [
    {
     "data": {
      "text/html": [
       "<div>\n",
       "<style scoped>\n",
       "    .dataframe tbody tr th:only-of-type {\n",
       "        vertical-align: middle;\n",
       "    }\n",
       "\n",
       "    .dataframe tbody tr th {\n",
       "        vertical-align: top;\n",
       "    }\n",
       "\n",
       "    .dataframe thead th {\n",
       "        text-align: right;\n",
       "    }\n",
       "</style>\n",
       "<table border=\"1\" class=\"dataframe\">\n",
       "  <thead>\n",
       "    <tr style=\"text-align: right;\">\n",
       "      <th></th>\n",
       "      <th>#Organism Name</th>\n",
       "      <th>Organism Groups</th>\n",
       "      <th>Strain</th>\n",
       "      <th>BioSample</th>\n",
       "      <th>BioProject</th>\n",
       "      <th>Assembly</th>\n",
       "      <th>NumLev</th>\n",
       "      <th>Level</th>\n",
       "      <th>Size(Mb)</th>\n",
       "      <th>GC%</th>\n",
       "      <th>...</th>\n",
       "      <th>Release Date</th>\n",
       "      <th>GenBank FTP</th>\n",
       "      <th>RefSeq FTP</th>\n",
       "      <th>onn</th>\n",
       "      <th>on</th>\n",
       "      <th>genus</th>\n",
       "      <th>phylum</th>\n",
       "      <th>class</th>\n",
       "      <th>order</th>\n",
       "      <th>family</th>\n",
       "    </tr>\n",
       "  </thead>\n",
       "  <tbody>\n",
       "    <tr>\n",
       "      <th>4737</th>\n",
       "      <td>Catajapyx aquilonaris</td>\n",
       "      <td>Eukaryota;Animals;Insects</td>\n",
       "      <td>NaN</td>\n",
       "      <td>SAMN02646748</td>\n",
       "      <td>PRJNA203301</td>\n",
       "      <td>GCA_000934665.2</td>\n",
       "      <td>3</td>\n",
       "      <td>Scaffold</td>\n",
       "      <td>285.626</td>\n",
       "      <td>43.0</td>\n",
       "      <td>...</td>\n",
       "      <td>2015-02-25T00:00:00Z</td>\n",
       "      <td>ftp://ftp.ncbi.nlm.nih.gov/genomes/all/GCA/000...</td>\n",
       "      <td>NaN</td>\n",
       "      <td>2</td>\n",
       "      <td>Catajapyx_aquilonaris</td>\n",
       "      <td>Catajapyx</td>\n",
       "      <td>Arthropoda</td>\n",
       "      <td>NaN</td>\n",
       "      <td>Diplura</td>\n",
       "      <td>Japygidae</td>\n",
       "    </tr>\n",
       "  </tbody>\n",
       "</table>\n",
       "<p>1 rows × 25 columns</p>\n",
       "</div>"
      ],
      "text/plain": [
       "             #Organism Name            Organism Groups Strain     BioSample  \\\n",
       "4737  Catajapyx aquilonaris  Eukaryota;Animals;Insects    NaN  SAMN02646748   \n",
       "\n",
       "       BioProject         Assembly  NumLev     Level  Size(Mb)   GC%  ...  \\\n",
       "4737  PRJNA203301  GCA_000934665.2       3  Scaffold   285.626  43.0  ...   \n",
       "\n",
       "              Release Date                                        GenBank FTP  \\\n",
       "4737  2015-02-25T00:00:00Z  ftp://ftp.ncbi.nlm.nih.gov/genomes/all/GCA/000...   \n",
       "\n",
       "      RefSeq FTP  onn                     on      genus      phylum class  \\\n",
       "4737         NaN    2  Catajapyx_aquilonaris  Catajapyx  Arthropoda   NaN   \n",
       "\n",
       "        order     family  \n",
       "4737  Diplura  Japygidae  \n",
       "\n",
       "[1 rows x 25 columns]"
      ]
     },
     "execution_count": 21,
     "metadata": {},
     "output_type": "execute_result"
    }
   ],
   "source": [
    "c1[c1['genus'] == 'Catajapyx']"
   ]
  },
  {
   "cell_type": "code",
   "execution_count": null,
   "id": "dd4c4dc1-012b-4a51-ac1b-34bb38f54832",
   "metadata": {},
   "outputs": [],
   "source": []
  },
  {
   "cell_type": "code",
   "execution_count": null,
   "id": "51e42c15-988f-48f9-9a4e-8102262cd44e",
   "metadata": {},
   "outputs": [],
   "source": []
  },
  {
   "cell_type": "code",
   "execution_count": null,
   "id": "8f594ffe-f0c4-4de0-82ec-aa6f76f68343",
   "metadata": {},
   "outputs": [],
   "source": [
    "#final counts"
   ]
  },
  {
   "cell_type": "code",
   "execution_count": 12,
   "id": "4d66439d-724e-400b-842f-997d77399605",
   "metadata": {},
   "outputs": [],
   "source": [
    "t = pd.read_clipboard()"
   ]
  },
  {
   "cell_type": "code",
   "execution_count": 18,
   "id": "6ffa2a7b-c636-4f8d-a9e3-544445a15c7c",
   "metadata": {},
   "outputs": [
    {
     "data": {
      "text/plain": [
       "215"
      ]
     },
     "execution_count": 18,
     "metadata": {},
     "output_type": "execute_result"
    }
   ],
   "source": [
    "t[t['pCUSCO Null Rejected'] == 1]['Name'].nunique()"
   ]
  },
  {
   "cell_type": "code",
   "execution_count": 8,
   "id": "78012149-1fb8-4209-b790-b4ad1315d223",
   "metadata": {},
   "outputs": [
    {
     "data": {
      "text/plain": [
       "Level\n",
       "family    1878\n",
       "order      548\n",
       "class      146\n",
       "phylum      34\n",
       "Name: count, dtype: int64"
      ]
     },
     "execution_count": 8,
     "metadata": {},
     "output_type": "execute_result"
    }
   ],
   "source": [
    "pd.read_clipboard().drop_duplicates('Name')['Level'].value_counts()"
   ]
  },
  {
   "cell_type": "code",
   "execution_count": 24,
   "id": "1803347a-93ba-46c0-a4bf-7ba07ca15921",
   "metadata": {},
   "outputs": [
    {
     "data": {
      "text/plain": [
       "0.12694534332195576"
      ]
     },
     "execution_count": 24,
     "metadata": {},
     "output_type": "execute_result"
    }
   ],
   "source": [
    "pd.read_csv('Data/processed/j1a.tsv', sep = '\\t')['Duplicated USCO'].mean()/425"
   ]
  },
  {
   "cell_type": "code",
   "execution_count": 32,
   "id": "8ec82ec0-64bc-482e-b7ab-4ac4c65fe978",
   "metadata": {},
   "outputs": [
    {
     "data": {
      "text/plain": [
       "0.0740754101021761"
      ]
     },
     "execution_count": 32,
     "metadata": {},
     "output_type": "execute_result"
    }
   ],
   "source": [
    "pd.read_csv('Data/processed/j2a.tsv', sep = '\\t')['Duplicated USCO'].mean()/1519"
   ]
  },
  {
   "cell_type": "code",
   "execution_count": 36,
   "id": "45d55a87-01f9-4893-91dc-a964140cbbf3",
   "metadata": {},
   "outputs": [
    {
     "data": {
      "text/plain": [
       "0.13341463842630777"
      ]
     },
     "execution_count": 36,
     "metadata": {},
     "output_type": "execute_result"
    }
   ],
   "source": [
    "pd.read_csv('Data/processed/j4a.tsv', sep = '\\t')['Duplicated USCO'].mean()/2326"
   ]
  },
  {
   "cell_type": "code",
   "execution_count": 37,
   "id": "63230513-737a-4995-9f0e-c365ee8f2c1d",
   "metadata": {},
   "outputs": [
    {
     "data": {
      "text/plain": [
       "0.19772825211780318"
      ]
     },
     "execution_count": 37,
     "metadata": {},
     "output_type": "execute_result"
    }
   ],
   "source": [
    "pd.read_csv('Data/processed/j5a.tsv', sep = '\\t')['Duplicated USCO'].mean()/3236"
   ]
  },
  {
   "cell_type": "code",
   "execution_count": 38,
   "id": "6851c84c-5d3c-4d8a-bcdc-57f99ac22f96",
   "metadata": {},
   "outputs": [
    {
     "data": {
      "text/plain": [
       "0.16557144527205547"
      ]
     },
     "execution_count": 38,
     "metadata": {},
     "output_type": "execute_result"
    }
   ],
   "source": [
    "(0.19772825211780318+0.13341463842630777)/2"
   ]
  },
  {
   "cell_type": "code",
   "execution_count": null,
   "id": "fd169fb7-acda-475b-8ba6-91b7c2e0754d",
   "metadata": {},
   "outputs": [],
   "source": []
  },
  {
   "cell_type": "code",
   "execution_count": 90,
   "id": "2bcd9669-df64-4cac-938d-5a8712f8577a",
   "metadata": {},
   "outputs": [],
   "source": [
    "h2 =  pd.read_csv('Data/processed/b3p.an', sep = '\\t', header = None)\n",
    "h2[2] = h2[0].apply(lambda x: x.split('_')[0]+'_'+x.split('_')[2].split('.')[0].replace('k','000').zfill(5))\n",
    "h2[3] = h2[0].apply(lambda x: x.split('_')[1].zfill(2))\n",
    "h2[4] = h2[1].apply(lambda x: x.split(',')[2].strip()).astype(float)\n",
    "h2[5] = h2[1].apply(lambda x: x.split(',')[3].replace(')','').strip()).astype(float)\n",
    "h2[6] = h2[1].apply(lambda x: x.split(',')[6].strip()).astype(float)\n",
    "h2[7] = h2[1].apply(lambda x: x.split(',')[7].replace(')','').strip()).astype(float)\n",
    "h2[8] = h2[1].apply(lambda x: x.split(',')[10].strip()).astype(float)\n",
    "h2[9] = h2[1].apply(lambda x: x.split(',')[11].replace(')','').replace(']','').strip()).astype(float)\n",
    "h2[11]= h2[0].apply(lambda x: x.split('_')[0])\n",
    "h2[12] = h2[2] +'_'+ h2[3]\n",
    "h2[13] = h2[2].apply(lambda x: int(x.split('_')[1]))\n",
    "h2[14] = h2[13].astype(str)+'_'+h2[3]\n",
    "\n",
    "l1 = pd.read_csv('Data/processed/g3p.li', sep = '\\t', header = None)\n",
    "l1[2] = l1[0].apply(lambda x: '_'.join(x.split('_')[:-1]))\n",
    "l1[3] = l1[1].apply(lambda x: float(x.split(': ')[1].split(' (')[0]))\n",
    "li = l1.groupby(2)[3].mean().reset_index().rename(columns = {2: 0, 3: 41})\n",
    "l2 = pd.merge(h2,li)\n",
    "l21 = l2[l2[11] == 'ar']\n",
    "l22 = l2[l2[11] == 'as']\n",
    "l23 = l2[l2[11] == 'ba']\n",
    "l24 = l2[l2[11] == 've']"
   ]
  },
  {
   "cell_type": "code",
   "execution_count": 95,
   "id": "94762f10-3e03-4e95-94bf-832211e86572",
   "metadata": {},
   "outputs": [
    {
     "name": "stderr",
     "output_type": "stream",
     "text": [
      "C:\\Users\\cat\\AppData\\Local\\Temp\\ipykernel_6776\\1790389232.py:1: DeprecationWarning: Please import `pearsonr` from the `scipy.stats` namespace; the `scipy.stats.stats` namespace is deprecated and will be removed in SciPy 2.0.0.\n",
      "  stats.stats.pearsonr(l21[(l21[3] != '02')][4], l21[(l21[3] != '02')][41])\n"
     ]
    },
    {
     "data": {
      "text/plain": [
       "PearsonRResult(statistic=0.9138732235567503, pvalue=1.4217478785059876e-231)"
      ]
     },
     "execution_count": 95,
     "metadata": {},
     "output_type": "execute_result"
    }
   ],
   "source": [
    "stats.stats.pearsonr(l21[(l21[3] != '02')][4], l21[(l21[3] != '02')][41])"
   ]
  },
  {
   "cell_type": "code",
   "execution_count": 94,
   "id": "cbeed10d-1d91-4f55-8bcf-404a853bc987",
   "metadata": {},
   "outputs": [
    {
     "name": "stderr",
     "output_type": "stream",
     "text": [
      "C:\\Users\\cat\\AppData\\Local\\Temp\\ipykernel_6776\\1403129309.py:1: DeprecationWarning: Please import `pearsonr` from the `scipy.stats` namespace; the `scipy.stats.stats` namespace is deprecated and will be removed in SciPy 2.0.0.\n",
      "  stats.stats.pearsonr(l22[(l22[3] != '02')][4], l22[(l22[3] != '02')][41])\n"
     ]
    },
    {
     "data": {
      "text/plain": [
       "PearsonRResult(statistic=0.15955996562084337, pvalue=9.65654465486816e-05)"
      ]
     },
     "execution_count": 94,
     "metadata": {},
     "output_type": "execute_result"
    }
   ],
   "source": [
    "stats.stats.pearsonr(l22[(l22[3] != '02')][4], l22[(l22[3] != '02')][41])"
   ]
  },
  {
   "cell_type": "code",
   "execution_count": 97,
   "id": "dcd03532-033d-4dbf-aa6b-5b88402da708",
   "metadata": {},
   "outputs": [
    {
     "name": "stderr",
     "output_type": "stream",
     "text": [
      "C:\\Users\\cat\\AppData\\Local\\Temp\\ipykernel_6776\\426689100.py:1: DeprecationWarning: Please import `pearsonr` from the `scipy.stats` namespace; the `scipy.stats.stats` namespace is deprecated and will be removed in SciPy 2.0.0.\n",
      "  stats.stats.pearsonr(l23[(l23[3] != '02')][4], l23[(l23[3] != '02')][41])\n"
     ]
    },
    {
     "data": {
      "text/plain": [
       "PearsonRResult(statistic=0.40127830715392976, pvalue=1.2803762008370247e-24)"
      ]
     },
     "execution_count": 97,
     "metadata": {},
     "output_type": "execute_result"
    }
   ],
   "source": [
    "stats.stats.pearsonr(l23[(l23[3] != '02')][4], l23[(l23[3] != '02')][41])"
   ]
  },
  {
   "cell_type": "code",
   "execution_count": 96,
   "id": "8d155ac0-0c45-40ce-83ba-079de5662dc7",
   "metadata": {},
   "outputs": [
    {
     "name": "stderr",
     "output_type": "stream",
     "text": [
      "C:\\Users\\cat\\AppData\\Local\\Temp\\ipykernel_6776\\3320834501.py:1: DeprecationWarning: Please import `pearsonr` from the `scipy.stats` namespace; the `scipy.stats.stats` namespace is deprecated and will be removed in SciPy 2.0.0.\n",
      "  stats.stats.pearsonr(l24[(l24[3] != '02')][4], l24[(l24[3] != '02')][41])\n"
     ]
    },
    {
     "data": {
      "text/plain": [
       "PearsonRResult(statistic=0.9541313117720318, pvalue=2.100281983e-315)"
      ]
     },
     "execution_count": 96,
     "metadata": {},
     "output_type": "execute_result"
    }
   ],
   "source": [
    "stats.stats.pearsonr(l24[(l24[3] != '02')][4], l24[(l24[3] != '02')][41])"
   ]
  },
  {
   "cell_type": "code",
   "execution_count": 98,
   "id": "370a17e1-3f4b-4967-b49a-b83ceebf8f2d",
   "metadata": {},
   "outputs": [
    {
     "name": "stderr",
     "output_type": "stream",
     "text": [
      "C:\\Users\\cat\\AppData\\Local\\Temp\\ipykernel_6776\\2692312903.py:1: DeprecationWarning: Please import `pearsonr` from the `scipy.stats` namespace; the `scipy.stats.stats` namespace is deprecated and will be removed in SciPy 2.0.0.\n",
      "  stats.stats.pearsonr(l21[(l21[3] != '02') & (l21[13] != 1000)][4], y=l21[(l21[3] != '02') & (l21[13] != 1000)][41])\n"
     ]
    },
    {
     "data": {
      "text/plain": [
       "PearsonRResult(statistic=0.05998857265684873, pvalue=0.2360223283391119)"
      ]
     },
     "execution_count": 98,
     "metadata": {},
     "output_type": "execute_result"
    }
   ],
   "source": [
    "stats.stats.pearsonr(l21[(l21[3] != '02') & (l21[13] != 1000)][4], y=l21[(l21[3] != '02') & (l21[13] != 1000)][41])"
   ]
  },
  {
   "cell_type": "code",
   "execution_count": 99,
   "id": "d3390095-8ed7-4077-b68c-bd88d498918a",
   "metadata": {},
   "outputs": [
    {
     "name": "stderr",
     "output_type": "stream",
     "text": [
      "C:\\Users\\cat\\AppData\\Local\\Temp\\ipykernel_6776\\3472899924.py:1: DeprecationWarning: Please import `pearsonr` from the `scipy.stats` namespace; the `scipy.stats.stats` namespace is deprecated and will be removed in SciPy 2.0.0.\n",
      "  stats.stats.pearsonr(l22[(l22[3] != '02') & (l22[13] != 1000)][4], y=l22[(l22[3] != '02') & (l22[13] != 1000)][41])\n"
     ]
    },
    {
     "data": {
      "text/plain": [
       "PearsonRResult(statistic=0.1015782533666372, pvalue=0.044439047010118304)"
      ]
     },
     "execution_count": 99,
     "metadata": {},
     "output_type": "execute_result"
    }
   ],
   "source": [
    "stats.stats.pearsonr(l22[(l22[3] != '02') & (l22[13] != 1000)][4], y=l22[(l22[3] != '02') & (l22[13] != 1000)][41])"
   ]
  },
  {
   "cell_type": "code",
   "execution_count": 100,
   "id": "3e828eb5-586d-44f1-adbf-94f014ed9550",
   "metadata": {},
   "outputs": [
    {
     "name": "stderr",
     "output_type": "stream",
     "text": [
      "C:\\Users\\cat\\AppData\\Local\\Temp\\ipykernel_6776\\3364035885.py:1: DeprecationWarning: Please import `pearsonr` from the `scipy.stats` namespace; the `scipy.stats.stats` namespace is deprecated and will be removed in SciPy 2.0.0.\n",
      "  stats.stats.pearsonr(l23[(l23[3] != '02') & (l23[13] != 1000)][4], y=l23[(l23[3] != '02') & (l23[13] != 1000)][41])\n"
     ]
    },
    {
     "data": {
      "text/plain": [
       "PearsonRResult(statistic=0.004899023191154216, pvalue=0.9221908284749548)"
      ]
     },
     "execution_count": 100,
     "metadata": {},
     "output_type": "execute_result"
    }
   ],
   "source": [
    "stats.stats.pearsonr(l23[(l23[3] != '02') & (l23[13] != 1000)][4], y=l23[(l23[3] != '02') & (l23[13] != 1000)][41])"
   ]
  },
  {
   "cell_type": "code",
   "execution_count": 101,
   "id": "513f6180-85a5-4ecf-a5f9-d63e6daa563c",
   "metadata": {},
   "outputs": [
    {
     "name": "stderr",
     "output_type": "stream",
     "text": [
      "C:\\Users\\cat\\AppData\\Local\\Temp\\ipykernel_6776\\917086142.py:1: DeprecationWarning: Please import `pearsonr` from the `scipy.stats` namespace; the `scipy.stats.stats` namespace is deprecated and will be removed in SciPy 2.0.0.\n",
      "  stats.stats.pearsonr(l24[(l24[3] != '02') & (l24[13] != 1000)][4], y=l24[(l24[3] != '02') & (l24[13] != 1000)][41])\n"
     ]
    },
    {
     "data": {
      "text/plain": [
       "PearsonRResult(statistic=0.36981474832644456, pvalue=2.0750233477145588e-14)"
      ]
     },
     "execution_count": 101,
     "metadata": {},
     "output_type": "execute_result"
    }
   ],
   "source": [
    "stats.stats.pearsonr(l24[(l24[3] != '02') & (l24[13] != 1000)][4], y=l24[(l24[3] != '02') & (l24[13] != 1000)][41])"
   ]
  },
  {
   "cell_type": "code",
   "execution_count": null,
   "id": "47a75789-cf00-4f0d-9ad0-7fbd1bf4ba14",
   "metadata": {},
   "outputs": [],
   "source": []
  },
  {
   "cell_type": "code",
   "execution_count": null,
   "id": "dba83a33-cf9c-48bb-bb07-83e5c5596e45",
   "metadata": {},
   "outputs": [],
   "source": []
  }
 ],
 "metadata": {
  "kernelspec": {
   "display_name": "Python 3 (ipykernel)",
   "language": "python",
   "name": "python3"
  },
  "language_info": {
   "codemirror_mode": {
    "name": "ipython",
    "version": 3
   },
   "file_extension": ".py",
   "mimetype": "text/x-python",
   "name": "python",
   "nbconvert_exporter": "python",
   "pygments_lexer": "ipython3",
   "version": "3.12.3"
  }
 },
 "nbformat": 4,
 "nbformat_minor": 5
}
